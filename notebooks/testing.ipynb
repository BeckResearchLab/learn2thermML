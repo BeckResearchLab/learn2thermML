{
 "cells": [
  {
   "cell_type": "code",
   "execution_count": 1,
   "metadata": {
    "tags": []
   },
   "outputs": [
    {
     "name": "stderr",
     "output_type": "stream",
     "text": [
      "/mmfs1/gscratch/cheme/usr/evankomp/miniconda3/envs/learn2thermML/lib/python3.10/site-packages/tqdm/auto.py:22: TqdmWarning: IProgress not found. Please update jupyter and ipywidgets. See https://ipywidgets.readthedocs.io/en/stable/user_install.html\n",
      "  from .autonotebook import tqdm as notebook_tqdm\n"
     ]
    }
   ],
   "source": [
    "import datasets"
   ]
  },
  {
   "cell_type": "code",
   "execution_count": 2,
   "metadata": {
    "tags": []
   },
   "outputs": [],
   "source": [
    "ds = datasets.load_from_disk('../../learn2thermDB/notebooks/homo/protein_hash/hf_data/')"
   ]
  },
  {
   "cell_type": "code",
   "execution_count": 3,
   "metadata": {
    "tags": []
   },
   "outputs": [
    {
     "data": {
      "text/plain": [
       "Dataset({\n",
       "    features: ['protein_int_index', 'protein_seq', 'ogt', 'taxa_index', 'taxonomy', 'hash'],\n",
       "    num_rows: 10000\n",
       "})"
      ]
     },
     "execution_count": 3,
     "metadata": {},
     "output_type": "execute_result"
    }
   ],
   "source": [
    "ds"
   ]
  },
  {
   "cell_type": "code",
   "execution_count": 4,
   "metadata": {
    "tags": []
   },
   "outputs": [],
   "source": [
    "import l2tml_utils.dataset_deduplication"
   ]
  },
  {
   "cell_type": "code",
   "execution_count": 5,
   "metadata": {
    "tags": []
   },
   "outputs": [
    {
     "name": "stderr",
     "output_type": "stream",
     "text": [
      "10000it [00:22, 437.10it/s]\n",
      "100%|█████████████████████████████████████████| 25/25 [00:00<00:00, 1361.26it/s]\n",
      "                                                                                \r"
     ]
    },
    {
     "data": {
      "text/plain": [
       "(Dataset({\n",
       "     features: ['protein_int_index', 'protein_seq', 'ogt', 'taxa_index', 'taxonomy', 'hash'],\n",
       "     num_rows: 9969\n",
       " }),\n",
       " [[{'base_index': 432, 'is_extreme': True, 'copies': 2},\n",
       "   {'base_index': 445, 'is_extreme': False}],\n",
       "  [{'base_index': 3854, 'is_extreme': True, 'copies': 2},\n",
       "   {'base_index': 3992, 'is_extreme': False}],\n",
       "  [{'base_index': 3696, 'is_extreme': True, 'copies': 2},\n",
       "   {'base_index': 4071, 'is_extreme': False}],\n",
       "  [{'base_index': 3765, 'is_extreme': True, 'copies': 1},\n",
       "   {'base_index': 4351, 'is_extreme': True, 'copies': 2},\n",
       "   {'base_index': 4111, 'is_extreme': False}],\n",
       "  [{'base_index': 3917, 'is_extreme': True, 'copies': 3},\n",
       "   {'base_index': 4112, 'is_extreme': False},\n",
       "   {'base_index': 4350, 'is_extreme': False}],\n",
       "  [{'base_index': 6744, 'is_extreme': True, 'copies': 6},\n",
       "   {'base_index': 6657, 'is_extreme': True, 'copies': 2},\n",
       "   {'base_index': 6504, 'is_extreme': False},\n",
       "   {'base_index': 5847, 'is_extreme': False},\n",
       "   {'base_index': 6220, 'is_extreme': True, 'copies': 1},\n",
       "   {'base_index': 6839, 'is_extreme': True, 'copies': 1},\n",
       "   {'base_index': 6970, 'is_extreme': False},\n",
       "   {'base_index': 6940, 'is_extreme': False}],\n",
       "  [{'base_index': 6772, 'is_extreme': True, 'copies': 2},\n",
       "   {'base_index': 6686, 'is_extreme': False}],\n",
       "  [{'base_index': 6050, 'is_extreme': True, 'copies': 2},\n",
       "   {'base_index': 6922, 'is_extreme': False}],\n",
       "  [{'base_index': 6973, 'is_extreme': True, 'copies': 3},\n",
       "   {'base_index': 6869, 'is_extreme': False},\n",
       "   {'base_index': 6974, 'is_extreme': False}],\n",
       "  [{'base_index': 6928, 'is_extreme': True, 'copies': 2},\n",
       "   {'base_index': 6975, 'is_extreme': False}],\n",
       "  [{'base_index': 6914, 'is_extreme': True, 'copies': 3},\n",
       "   {'base_index': 6980, 'is_extreme': False},\n",
       "   {'base_index': 6221, 'is_extreme': False}],\n",
       "  [{'base_index': 6668, 'is_extreme': True, 'copies': 2},\n",
       "   {'base_index': 5946, 'is_extreme': False}],\n",
       "  [{'base_index': 6657, 'is_extreme': True, 'copies': 2},\n",
       "   {'base_index': 5755, 'is_extreme': False}],\n",
       "  [{'base_index': 6958, 'is_extreme': True, 'copies': 2},\n",
       "   {'base_index': 6464, 'is_extreme': False}],\n",
       "  [{'base_index': 6798, 'is_extreme': True, 'copies': 2},\n",
       "   {'base_index': 6833, 'is_extreme': False}],\n",
       "  [{'base_index': 6633, 'is_extreme': True, 'copies': 2},\n",
       "   {'base_index': 6857, 'is_extreme': False}],\n",
       "  [{'base_index': 6905, 'is_extreme': True, 'copies': 2},\n",
       "   {'base_index': 6866, 'is_extreme': False}],\n",
       "  [{'base_index': 6954, 'is_extreme': True, 'copies': 2},\n",
       "   {'base_index': 6880, 'is_extreme': False}],\n",
       "  [{'base_index': 4113, 'is_extreme': True, 'copies': 2},\n",
       "   {'base_index': 4342, 'is_extreme': False}],\n",
       "  [{'base_index': 3993, 'is_extreme': True, 'copies': 2},\n",
       "   {'base_index': 4354, 'is_extreme': False}],\n",
       "  [{'base_index': 6049, 'is_extreme': True, 'copies': 2},\n",
       "   {'base_index': 5474, 'is_extreme': False}],\n",
       "  [{'base_index': 3959, 'is_extreme': True, 'copies': 2},\n",
       "   {'base_index': 4909, 'is_extreme': False}],\n",
       "  [{'base_index': 8929, 'is_extreme': True, 'copies': 2},\n",
       "   {'base_index': 8931, 'is_extreme': False}],\n",
       "  [{'base_index': 8889, 'is_extreme': True, 'copies': 2},\n",
       "   {'base_index': 9531, 'is_extreme': False}],\n",
       "  [{'base_index': 9734, 'is_extreme': True, 'copies': 2},\n",
       "   {'base_index': 9884, 'is_extreme': False}]])"
      ]
     },
     "execution_count": 5,
     "metadata": {},
     "output_type": "execute_result"
    }
   ],
   "source": [
    "l2tml_utils.dataset_deduplication.deduplicate_dataset(ds, num_perm=50, k=3)"
   ]
  },
  {
   "cell_type": "code",
   "execution_count": null,
   "metadata": {},
   "outputs": [],
   "source": []
  }
 ],
 "metadata": {
  "kernelspec": {
   "display_name": "Python 3 (ipykernel)",
   "language": "python",
   "name": "python3"
  },
  "language_info": {
   "codemirror_mode": {
    "name": "ipython",
    "version": 3
   },
   "file_extension": ".py",
   "mimetype": "text/x-python",
   "name": "python",
   "nbconvert_exporter": "python",
   "pygments_lexer": "ipython3",
   "version": "3.10.6"
  }
 },
 "nbformat": 4,
 "nbformat_minor": 4
}
